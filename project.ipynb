{
 "cells": [
  {
   "cell_type": "markdown",
   "metadata": {},
   "source": [
    "# Replicating 'Delivering Education to the Underserved through a Public-Private Partnership Program in Pakistan: A Randomized Controlled Study'\n",
    "\n"
   ]
  },
  {
   "cell_type": "markdown",
   "metadata": {},
   "source": [
    " This notebook contains the replication of\n",
    "> Barrera-Osorio,Felipe & Blakeslee,David S.& Hoover, Matthew & Linden ,Leigh & Raju, Dhushyanth & Ryan ,Stephen P. , 2017. \"Delivering education to the underserved through a public-private partnership program in Pakistan,\" Policy Research Working Paper Series 8177, The World Bank."
   ]
  },
  {
   "cell_type": "markdown",
   "metadata": {},
   "source": [
    "**Sources used to replicate the study can be found here : [code,data](https://dataverse.harvard.edu/dataset.xhtml?persistentId=doi:10.7910/DVN/UWXULC) and [paper](http://documents1.worldbank.org/curated/en/868011504015520701/pdf/WPS8177.pdf).**"
   ]
  },
  {
   "cell_type": "markdown",
   "metadata": {},
   "source": [
    "**Information about navigating the notebook:**\n",
    "\n",
    "* The notebook attempts to replicate the major results of the study. Tables and figures are labelled accordingly.\n",
    "* I also add additional visualizations as seen fit to improve on the readability and lucidity of the study.\n",
    "* Having originated from South Asia,I am also uniquely placed to enrich the paper with personal observations and interpretations of the results. They are accordingly marked.\n"
   ]
  },
  {
   "cell_type": "markdown",
   "metadata": {},
   "source": [
    "## Table of Contents\n",
    "* [Introduction](#first-bullet)\n",
    "* [Second Bullet Header](#second-bullet)\n",
    "\n"
   ]
  },
  {
   "cell_type": "code",
   "execution_count": 83,
   "metadata": {},
   "outputs": [],
   "source": [
    "library(tidyverse)\n",
    "library(haven)\n",
    "library(dplyr)\n",
    "library(sandwich)\n",
    "library(stargazer)\n",
    "library(stargazer)\n",
    "library(IRdisplay)\n",
    "library(magrittr)\n",
    "library(xtable)\n"
   ]
  },
  {
   "cell_type": "markdown",
   "metadata": {},
   "source": [
    "**Importing Data**"
   ]
  },
  {
   "cell_type": "code",
   "execution_count": 4,
   "metadata": {},
   "outputs": [],
   "source": [
    "child_data<- read_dta(\"data/ReStat_children.dta\")\n",
    "school_data<- read_dta(\"data/ReStat_schools.dta\")"
   ]
  },
  {
   "cell_type": "markdown",
   "metadata": {},
   "source": [
    "#### Table 6: Gender differential impacts by subsidy treatment"
   ]
  },
  {
   "cell_type": "code",
   "execution_count": 77,
   "metadata": {},
   "outputs": [
    {
     "data": {
      "text/html": [
       ", <table style=\"text-align:center\"><caption><strong>Gender differential impacts by the subsidy treatment</strong></caption>, <tr><td colspan=\"4\" style=\"border-bottom: 1px solid black\"></td></tr><tr><td style=\"text-align:left\"></td><td colspan=\"3\"><em>Dependent variable:</em></td></tr>, <tr><td></td><td colspan=\"3\" style=\"border-bottom: 1px solid black\"></td></tr>, <tr><td style=\"text-align:left\"></td><td>Reported Enrollment</td><td>Highest Grade attained</td><td>Test Scores</td></tr>, <tr><td colspan=\"4\" style=\"border-bottom: 1px solid black\"></td></tr><tr><td style=\"text-align:left\">Treatment gender uniform</td><td>0.335<sup>***</sup></td><td>0.415<sup>***</sup></td><td>0.576<sup>***</sup></td></tr>, <tr><td style=\"text-align:left\"></td><td>(0.017)</td><td>(0.033)</td><td>(0.045)</td></tr>, <tr><td style=\"text-align:left\"></td><td></td><td></td><td></td></tr>, <tr><td style=\"text-align:left\">Treatment gender uniform x Female</td><td>-0.038</td><td>-0.099<sup>**</sup></td><td>0.087</td></tr>, <tr><td style=\"text-align:left\"></td><td>(0.027)</td><td>(0.050)</td><td>(0.067)</td></tr>, <tr><td style=\"text-align:left\"></td><td></td><td></td><td></td></tr>, <tr><td style=\"text-align:left\">Treatment gender differentiated</td><td>0.316<sup>***</sup></td><td>0.375<sup>***</sup></td><td>0.636<sup>***</sup></td></tr>, <tr><td style=\"text-align:left\"></td><td>(0.017)</td><td>(0.034)</td><td>(0.045)</td></tr>, <tr><td style=\"text-align:left\"></td><td></td><td></td><td></td></tr>, <tr><td style=\"text-align:left\">Treatment gender differentiated x Female</td><td>-0.001</td><td>0.051</td><td>0.043</td></tr>, <tr><td style=\"text-align:left\"></td><td>(0.026)</td><td>(0.050)</td><td>(0.067)</td></tr>, <tr><td style=\"text-align:left\"></td><td></td><td></td><td></td></tr>, <tr><td colspan=\"4\" style=\"border-bottom: 1px solid black\"></td></tr><tr><td style=\"text-align:left\">Observations</td><td>11,658</td><td>11,152</td><td>10,376</td></tr>, <tr><td style=\"text-align:left\">R<sup>2</sup></td><td>0.110</td><td>0.226</td><td>0.204</td></tr>, <tr><td style=\"text-align:left\">Adjusted R<sup>2</sup></td><td>0.108</td><td>0.224</td><td>0.202</td></tr>, <tr><td style=\"text-align:left\">Residual Std. Error</td><td>0.447 (df = 11633)</td><td>1.184 (df = 11127)</td><td>0.898 (df = 10352)</td></tr>, <tr><td style=\"text-align:left\">F Statistic</td><td>59.628<sup>***</sup> (df = 24; 11633)</td><td>135.473<sup>***</sup> (df = 24; 11127)</td><td>115.093<sup>***</sup> (df = 23; 10352)</td></tr>, <tr><td colspan=\"4\" style=\"border-bottom: 1px solid black\"></td></tr><tr><td style=\"text-align:left\"><em>Note:</em></td><td colspan=\"3\" style=\"text-align:right\"><sup>*</sup>p<0.1; <sup>**</sup>p<0.05; <sup>***</sup>p<0.01</td></tr>, </table>"
      ]
     },
     "metadata": {},
     "output_type": "display_data"
    }
   ],
   "source": [
    "source(\"auxiliary/Table_6.r\")\n",
    "Table_6(child_data)"
   ]
  }
 ],
 "metadata": {
  "kernelspec": {
   "display_name": "R",
   "language": "R",
   "name": "ir"
  },
  "language_info": {
   "codemirror_mode": "r",
   "file_extension": ".r",
   "mimetype": "text/x-r-source",
   "name": "R",
   "pygments_lexer": "r",
   "version": "3.6.1"
  }
 },
 "nbformat": 4,
 "nbformat_minor": 4
}